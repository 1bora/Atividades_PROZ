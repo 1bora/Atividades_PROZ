{
  "nbformat": 4,
  "nbformat_minor": 0,
  "metadata": {
    "colab": {
      "provenance": [],
      "authorship_tag": "ABX9TyMdUKdOPjAHR28TyueE6s/q",
      "include_colab_link": true
    },
    "kernelspec": {
      "name": "python3",
      "display_name": "Python 3"
    },
    "language_info": {
      "name": "python"
    }
  },
  "cells": [
    {
      "cell_type": "markdown",
      "metadata": {
        "id": "view-in-github",
        "colab_type": "text"
      },
      "source": [
        "<a href=\"https://colab.research.google.com/github/1bora/Atividades_PROZ/blob/main/Proz_print(tabuada).ipynb\" target=\"_parent\"><img src=\"https://colab.research.google.com/assets/colab-badge.svg\" alt=\"Open In Colab\"/></a>"
      ]
    },
    {
      "cell_type": "code",
      "execution_count": 8,
      "metadata": {
        "id": "XXbTxFxzv9Sj",
        "colab": {
          "base_uri": "https://localhost:8080/"
        },
        "outputId": "4ac844fe-4266-41d1-c0e5-ecfb92c35a8c"
      },
      "outputs": [
        {
          "name": "stdout",
          "output_type": "stream",
          "text": [
            "insira um número inteiro de 1 a 10.0.2\n",
            "Insira apenas números inteiros de 1 a 10! \n",
            "\n",
            "insira um número inteiro de 1 a 10.fly\n",
            "Insira apenas números inteiros de 1 a 10! \n",
            "\n",
            "insira um número inteiro de 1 a 10.5\n",
            "Tabuada de multiplicação: n 5\n",
            "\n",
            "1 x 5 = 5\n",
            "2 x 5 = 10\n",
            "3 x 5 = 15\n",
            "4 x 5 = 20\n",
            "5 x 5 = 25\n",
            "6 x 5 = 30\n",
            "7 x 5 = 35\n",
            "8 x 5 = 40\n",
            "9 x 5 = 45\n",
            "10 x 5 = 50\n",
            "Visualizar tabuada de outro numero ? S/n \n",
            "s\n",
            "insira um número inteiro de 1 a 10.8\n",
            "Tabuada de multiplicação: n 8\n",
            "\n",
            "1 x 8 = 8\n",
            "2 x 8 = 16\n",
            "3 x 8 = 24\n",
            "4 x 8 = 32\n",
            "5 x 8 = 40\n",
            "6 x 8 = 48\n",
            "7 x 8 = 56\n",
            "8 x 8 = 64\n",
            "9 x 8 = 72\n",
            "10 x 8 = 80\n",
            "Visualizar tabuada de outro numero ? S/n \n",
            "S\n",
            "insira um número inteiro de 1 a 10.9\n",
            "Tabuada de multiplicação: n 9\n",
            "\n",
            "1 x 9 = 9\n",
            "2 x 9 = 18\n",
            "3 x 9 = 27\n",
            "4 x 9 = 36\n",
            "5 x 9 = 45\n",
            "6 x 9 = 54\n",
            "7 x 9 = 63\n",
            "8 x 9 = 72\n",
            "9 x 9 = 81\n",
            "10 x 9 = 90\n",
            "Visualizar tabuada de outro numero ? S/n \n",
            "N\n"
          ]
        }
      ],
      "source": [
        "# Algoritmo da tabuada\n",
        "# 1 - receber numero e verificar se é inteiro\n",
        "# 2 - apresentar a tabuada do numero\n",
        "# 3 - perguntar se o usuário quer ver outra tabuada de outro numero\n",
        "\n",
        "\n",
        "contador = True # cria a condição de saida do while (contador = False)\n",
        "\n",
        "\n",
        "while contador == True: # em quanto o contador tiver o valor True, roda o codigo indentado abaixo\n",
        "  numero = input(\"insira um número inteiro de 1 a 10.\") # recebe o input que por padrão vem do tipo string\n",
        "\n",
        "  # 1 verificar se o numero é inteiro e se não for pedir pro usuário inserir de novo\n",
        "  if numero.isnumeric() != True:\n",
        "    print(\"Insira apenas números inteiros de 1 a 10! \\n\")\n",
        "  else:\n",
        "    # 2 se for um número inteiro exibe a tabuada\n",
        "    print(\"Tabuada de multiplicação: n \"+str(numero)+\"\\n\")\n",
        "    for i in range(1,11,1):\n",
        "      print(str(i)+\" x \"+str(numero)+\" = \"+str(int(numero)*i))\n",
        "\n",
        "    # 3 pergunta se o usuario quer ver outra tabuada de outro numero\n",
        "    # 3.1 se o usuário disser \"sim\", o loop repete, se o usuário disser \"não\" encerra\n",
        "    repetir = input(\"Visualizar tabuada de outro numero ? S/n \\n\")\n",
        "    if repetir.lower() == \"s\":\n",
        "      continue\n",
        "    else:\n",
        "      contador = False\n",
        "      print(\"Execução Finalizada.\")\n"
      ]
    },
    {
      "cell_type": "code",
      "source": [],
      "metadata": {
        "id": "qG4w6dGfYDGO"
      },
      "execution_count": null,
      "outputs": []
    }
  ]
}