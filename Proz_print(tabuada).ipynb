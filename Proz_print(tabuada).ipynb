{
  "nbformat": 4,
  "nbformat_minor": 0,
  "metadata": {
    "colab": {
      "provenance": [],
      "authorship_tag": "ABX9TyPhjX3wg5ETUk1bLR3+A2TT",
      "include_colab_link": true
    },
    "kernelspec": {
      "name": "python3",
      "display_name": "Python 3"
    },
    "language_info": {
      "name": "python"
    }
  },
  "cells": [
    {
      "cell_type": "markdown",
      "metadata": {
        "id": "view-in-github",
        "colab_type": "text"
      },
      "source": [
        "<a href=\"https://colab.research.google.com/github/1bora/Atividades_PROZ/blob/main/Proz_print(tabuada).ipynb\" target=\"_parent\"><img src=\"https://colab.research.google.com/assets/colab-badge.svg\" alt=\"Open In Colab\"/></a>"
      ]
    },
    {
      "cell_type": "code",
      "execution_count": 15,
      "metadata": {
        "id": "XXbTxFxzv9Sj",
        "colab": {
          "base_uri": "https://localhost:8080/"
        },
        "outputId": "6162fbee-f29c-496a-88b7-c34b4660cb25"
      },
      "outputs": [
        {
          "output_type": "stream",
          "name": "stdout",
          "text": [
            "insira um número inteiro de 1 a 10.8\n",
            "Tabuada de multiplicação: n 8\n",
            "\n",
            "1 x 8 = 8\n",
            "2 x 8 = 16\n",
            "3 x 8 = 24\n",
            "4 x 8 = 32\n",
            "5 x 8 = 40\n",
            "6 x 8 = 48\n",
            "7 x 8 = 56\n",
            "8 x 8 = 64\n",
            "9 x 8 = 72\n",
            "10 x 8 = 80\n",
            "Visualizar tabuada de outro numero ? S/n \n",
            "n\n",
            "Execução Finalizada.\n"
          ]
        }
      ],
      "source": [
        "# Algoritmo da tabuada\n",
        "# 1 - receber numero e verificar se é inteiro\n",
        "# 2 - apresentar a tabuada do numero\n",
        "# 3 - perguntar se o usuário quer ver outra tabuada de outro numero\n",
        "\n",
        "\n",
        "contador = True # cria a condição de saida do while (contador = False)\n",
        "\n",
        "\n",
        "while contador == True: # em quanto o contador tiver o valor True, roda o codigo indentado abaixo\n",
        "  numero = input(\"insira um número inteiro de 1 a 10.\") # recebe o input que por padrão vem do tipo string\n",
        "\n",
        "  # 1 verificar se o numero é inteiro e se não for pedir pro usuário inserir de novo\n",
        "  if numero.isnumeric() != True:\n",
        "    print(\"Insira apenas números inteiros de 1 a 10! \\n\")\n",
        "  else:\n",
        "    # 2 se for um número inteiro exibe a tabuada\n",
        "    print(\"Tabuada de multiplicação: n \"+str(numero)+\"\\n\")\n",
        "    for i in range(1,11,1): #range = faixa\n",
        "      print(str(i)+\" x \"+str(numero)+\" = \"+str(int(numero)*i)) # 1 x 5 = 5\n",
        "\n",
        "    # 3 pergunta se o usuario quer ver outra tabuada de outro numero\n",
        "    # 3.1 se o usuário disser \"sim\", o loop repete, se o usuário disser \"não\" encerra\n",
        "    repetir = input(\"Visualizar tabuada de outro numero ? S/n \\n\")\n",
        "    if repetir.lower() == \"s\":\n",
        "      continue\n",
        "    else:\n",
        "      contador = False\n",
        "      print(\"Execução Finalizada.\")\n"
      ]
    },
    {
      "cell_type": "code",
      "source": [],
      "metadata": {
        "id": "qG4w6dGfYDGO"
      },
      "execution_count": 13,
      "outputs": []
    }
  ]
}