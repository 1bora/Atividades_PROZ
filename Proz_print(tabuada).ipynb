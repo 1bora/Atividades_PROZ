{
  "nbformat": 4,
  "nbformat_minor": 0,
  "metadata": {
    "colab": {
      "provenance": [],
      "authorship_tag": "ABX9TyN7pwsV4WdSJxwqCsEVTGIb",
      "include_colab_link": true
    },
    "kernelspec": {
      "name": "python3",
      "display_name": "Python 3"
    },
    "language_info": {
      "name": "python"
    }
  },
  "cells": [
    {
      "cell_type": "markdown",
      "metadata": {
        "id": "view-in-github",
        "colab_type": "text"
      },
      "source": [
        "<a href=\"https://colab.research.google.com/github/1bora/Atividades_PROZ/blob/main/Proz_print(tabuada).ipynb\" target=\"_parent\"><img src=\"https://colab.research.google.com/assets/colab-badge.svg\" alt=\"Open In Colab\"/></a>"
      ]
    },
    {
      "cell_type": "code",
      "execution_count": null,
      "metadata": {
        "id": "XXbTxFxzv9Sj"
      },
      "outputs": [],
      "source": [
        "# Algoritmo da tabuada\n",
        "# 1 - receber numero e verificar se é inteiro\n",
        "# 2 - apresentar a tabuada do numero\n",
        "# 3 - perguntar se o usuário quer ver outra tabuada de outro numero\n",
        "\n",
        "\n",
        "contador = True # cria a condição de saida do while (contador = False)\n",
        "\n",
        "\n",
        "while contador == True: # em quanto o contador tiver o valor True, roda o codigo indentado abaixo\n",
        "  numero = input(\"insira um número inteiro de 1 a 10.\") # recebe o input que por padrão vem do tipo string\n",
        "\n",
        "  # 1 verificar se o numero é inteiro e se não for pedir pro usuário inserir de novo\n",
        "  if numero.isnumeric() != True:\n",
        "    print(\"Insira apenas números inteiros de 1 a 10!\")\n",
        "  else:\n",
        "    # 2 se for um número inteiro exibe a tabuada\n",
        "    print(\"Tabuada de multiplicação: n \"+str(numero)+\"\\n\")\n",
        "    for i in range(1,11,1):\n",
        "      print(str(i)+\" x \"+str(numero)+\" = \"+str(int(numero)*i))\n",
        "\n",
        "    # 3 pergunta se o usuario quer ver outro numero\n",
        "    # 3.1 se o usuário disser \"sim\", o loop repete, se o usuário disser \"não\" encerra\n",
        "    repetir = input(\"Visualizar tabuada de outro numero ? S/n \\n\")\n",
        "    if repetir.lower() == \"s\":\n",
        "      continue\n",
        "    else:\n",
        "      contador = False\n"
      ]
    },
    {
      "cell_type": "code",
      "source": [],
      "metadata": {
        "id": "qG4w6dGfYDGO"
      },
      "execution_count": null,
      "outputs": []
    }
  ]
}