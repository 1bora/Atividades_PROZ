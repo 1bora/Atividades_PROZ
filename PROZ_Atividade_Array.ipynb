{
  "nbformat": 4,
  "nbformat_minor": 0,
  "metadata": {
    "colab": {
      "provenance": [],
      "authorship_tag": "ABX9TyO2xtkStonFlmpAcozSE4Or",
      "include_colab_link": true
    },
    "kernelspec": {
      "name": "python3",
      "display_name": "Python 3"
    },
    "language_info": {
      "name": "python"
    }
  },
  "cells": [
    {
      "cell_type": "markdown",
      "metadata": {
        "id": "view-in-github",
        "colab_type": "text"
      },
      "source": [
        "<a href=\"https://colab.research.google.com/github/1bora/Atividades_PROZ/blob/main/PROZ_Atividade_Array.ipynb\" target=\"_parent\"><img src=\"https://colab.research.google.com/assets/colab-badge.svg\" alt=\"Open In Colab\"/></a>"
      ]
    },
    {
      "cell_type": "code",
      "execution_count": 1,
      "metadata": {
        "id": "90GqDLtpVk5X",
        "outputId": "1b7d7bbb-b686-4515-f820-072147fc2613",
        "colab": {
          "base_uri": "https://localhost:8080/"
        }
      },
      "outputs": [
        {
          "output_type": "stream",
          "name": "stdout",
          "text": [
            "Lista de produtos - Tamanho = 5\n",
            "Lista de datas de aniversário - Tamanho = 5\n",
            "Lista de listas - Tamanho = 2\n",
            "\n",
            "Elementos da lista de produtos da loja: \n",
            "Banana\n",
            "Maçã\n",
            "Uva\n",
            "Mamão\n",
            "Abacaxi\n",
            "\n",
            "\n",
            "Elementos da lista de anos de nascimento: \n",
            "1996\n",
            "2000\n",
            "1980\n",
            "1990\n",
            "2001\n",
            "\n",
            "\n",
            "Elementos da lista de listas: \n",
            "\n",
            "Elementos da lista: 0\n",
            "Banana\n",
            "Maçã\n",
            "Uva\n",
            "Mamão\n",
            "Abacaxi\n",
            "\n",
            "\n",
            "Elementos da lista: 1\n",
            "1996\n",
            "2000\n",
            "1980\n",
            "1990\n",
            "2001\n",
            "\n",
            "\n"
          ]
        }
      ],
      "source": [
        "store_products = [\"Banana\",\"Maçã\",\"Uva\",\"Mamão\",\"Abacaxi\"]\n",
        "birth_dates = [1996,2000,1980,1990,2001]\n",
        "\n",
        "lista_de_listas = [[\"Banana\",\"Maçã\",\"Uva\",\"Mamão\",\"Abacaxi\"],[1996,2000,1980,1990,2001]]\n",
        "\n",
        "print(\"Lista de produtos - Tamanho = \" + str(len(store_products)))\n",
        "print(\"Lista de datas de aniversário - Tamanho = \"+ str(len(birth_dates)))\n",
        "\n",
        "#lista de listas é um array que contem 2 outros arrays dentro\n",
        "print(\"Lista de listas - Tamanho = \"+ str(len(lista_de_listas))+\"\\n\")\n",
        "\n",
        "#para acessar o primeiro array utiliza-se lista_de_listas[0]\n",
        "#para acessar o segundo array utiliza-se lista_de_listas[1]\n",
        "#para acessar um elemento dentro do primeiro array utiliza-se lista_de_listas[0][0]\n",
        "\n",
        "#O laço for percorre o tamanho da lista e em seguida printa o elemento correspondente ao índice da lista\n",
        "#O índice serve para identificar o elemento na lista, ex: store_products[0] = \"Banana\"\n",
        "print(\"Elementos da lista de produtos da loja: \")\n",
        "for i in range(len(store_products)):\n",
        "  print(store_products[i])\n",
        "print(\"\\n\")\n",
        "\n",
        "#O laço for percorre o tamanho da lista e em seguida printa o elemento correspondente ao índice da lista\n",
        "print(\"Elementos da lista de anos de nascimento: \")\n",
        "for i in range(len(birth_dates)):\n",
        "  print(birth_dates[i])\n",
        "print(\"\\n\")\n",
        "\n",
        "\n",
        "print(\"Elementos da lista de listas: \\n\")\n",
        "for i in range(len(lista_de_listas)): # Aqui o primeiro laço percorre o tamanho da lista que é 2, pois existem 2 listas dentro da lista principal\n",
        "  print(\"Elementos da lista: \"+str(i))\n",
        "  for j in range(len(lista_de_listas[i])): # Em seguida percorre os elementos da lista com o índice selecionado pelo primeiro laço for\n",
        "    print(lista_de_listas[i][j])  # Exemplo: lista_de_listas[0][0] = \"Banana\", lista_de_listas[1][0] = 1996\n",
        "  print(\"\\n\")"
      ]
    }
  ]
}