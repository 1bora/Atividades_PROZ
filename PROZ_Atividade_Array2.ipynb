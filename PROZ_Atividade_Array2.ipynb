{
  "nbformat": 4,
  "nbformat_minor": 0,
  "metadata": {
    "colab": {
      "provenance": [],
      "authorship_tag": "ABX9TyP4o898HdyKOBZfrtnLUWET",
      "include_colab_link": true
    },
    "kernelspec": {
      "name": "python3",
      "display_name": "Python 3"
    },
    "language_info": {
      "name": "python"
    }
  },
  "cells": [
    {
      "cell_type": "markdown",
      "metadata": {
        "id": "view-in-github",
        "colab_type": "text"
      },
      "source": [
        "<a href=\"https://colab.research.google.com/github/1bora/Atividades_PROZ/blob/main/PROZ_Atividade_Array2.ipynb\" target=\"_parent\"><img src=\"https://colab.research.google.com/assets/colab-badge.svg\" alt=\"Open In Colab\"/></a>"
      ]
    },
    {
      "cell_type": "code",
      "execution_count": 1,
      "metadata": {
        "colab": {
          "base_uri": "https://localhost:8080/"
        },
        "id": "hJ8jtBoSX0rZ",
        "outputId": "7c9db658-7ea3-4d3c-c7ed-f43851a47d46"
      },
      "outputs": [
        {
          "output_type": "stream",
          "name": "stdout",
          "text": [
            "O array possui: 15 elementos.\n",
            "Elemento lista_musicos[2] = Elis Regina\n",
            "Elemento lista_musicos[9] = Moacir Santos\n",
            "Elemento lista_musicos[14] = Gal Costa\n"
          ]
        }
      ],
      "source": [
        "lista_musicos = [ 'Djavan', 'Roberto Carlos', 'Elis Regina', 'Tom Jobim', 'Milton Nascimento', 'Chico Buarque', 'Nara Leão', 'Pitty', 'Simonal', 'Moacir Santos', 'Caetano Veloso', 'Elza Soares', 'Paulinho da Viola', 'Yamandú Costa', 'Gal Costa']\n",
        "print(\"O array possui: \"+str(len(lista_musicos))+\" elementos.\")\n",
        "print(\"Elemento lista_musicos[2] = \" + lista_musicos[2])\n",
        "print(\"Elemento lista_musicos[9] = \" + lista_musicos[9])\n",
        "print(\"Elemento lista_musicos[14] = \" + lista_musicos[14])"
      ]
    }
  ]
}