{
  "nbformat": 4,
  "nbformat_minor": 0,
  "metadata": {
    "colab": {
      "provenance": [],
      "authorship_tag": "ABX9TyMCDSgaeQqqTA13mbH+KLuL",
      "include_colab_link": true
    },
    "kernelspec": {
      "name": "python3",
      "display_name": "Python 3"
    },
    "language_info": {
      "name": "python"
    }
  },
  "cells": [
    {
      "cell_type": "markdown",
      "metadata": {
        "id": "view-in-github",
        "colab_type": "text"
      },
      "source": [
        "<a href=\"https://colab.research.google.com/github/1bora/Atividades_PROZ/blob/main/PROZ_Atividade_Array4.ipynb\" target=\"_parent\"><img src=\"https://colab.research.google.com/assets/colab-badge.svg\" alt=\"Open In Colab\"/></a>"
      ]
    },
    {
      "cell_type": "code",
      "execution_count": 1,
      "metadata": {
        "id": "elT-ExK7cRip",
        "outputId": "1b8dfe27-d098-49a5-ea6f-9f89219d9ade",
        "colab": {
          "base_uri": "https://localhost:8080/"
        }
      },
      "outputs": [
        {
          "output_type": "stream",
          "name": "stdout",
          "text": [
            "['máscaras faciais', 'rímel', 'esmaltes', 'perfumes', 'cremes hidratantes', 'xampus', 'sabonetes', 'delineadores', 'titura para cabelo']\n"
          ]
        }
      ],
      "source": [
        "lista_produtos = ['máscaras faciais', 'batons', 'esmaltes', 'perfumes', 'loções', 'xampus', 'sabonetes', 'delineadores', 'titura para cabelo', 'desodorante']\n",
        "\n",
        "lista_produtos[1] = \"rímel\"\n",
        "lista_produtos[4] = \"cremes hidratantes\"\n",
        "lista_produtos.pop()\n",
        "\n",
        "print(lista_produtos)"
      ]
    }
  ]
}