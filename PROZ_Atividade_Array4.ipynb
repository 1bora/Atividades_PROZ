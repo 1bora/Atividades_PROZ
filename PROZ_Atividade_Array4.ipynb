{
  "nbformat": 4,
  "nbformat_minor": 0,
  "metadata": {
    "colab": {
      "provenance": [],
      "authorship_tag": "ABX9TyMm0TgfdSOAOxkm3RIy4jwq",
      "include_colab_link": true
    },
    "kernelspec": {
      "name": "python3",
      "display_name": "Python 3"
    },
    "language_info": {
      "name": "python"
    }
  },
  "cells": [
    {
      "cell_type": "markdown",
      "metadata": {
        "id": "view-in-github",
        "colab_type": "text"
      },
      "source": [
        "<a href=\"https://colab.research.google.com/github/1bora/Atividades_PROZ/blob/main/PROZ_Atividade_Array4.ipynb\" target=\"_parent\"><img src=\"https://colab.research.google.com/assets/colab-badge.svg\" alt=\"Open In Colab\"/></a>"
      ]
    },
    {
      "cell_type": "code",
      "execution_count": 16,
      "metadata": {
        "colab": {
          "base_uri": "https://localhost:8080/"
        },
        "id": "Ovqtji_ndldk",
        "outputId": "803bc634-8647-4860-fd01-bdb6a93ea5fa"
      },
      "outputs": [
        {
          "output_type": "stream",
          "name": "stdout",
          "text": [
            "['máscaras faciais', 'rímel', 'esmaltes', 'perfumes', 'cremes hidratantes', 'xampus', 'sabonetes', 'tintura para cabelo', 'desodorante']\n"
          ]
        }
      ],
      "source": [
        "lista_produtos = ['máscaras faciais', 'batons', 'esmaltes', 'perfumes', 'loções', 'xampus', 'sabonetes', 'delineadores']\n",
        "\n",
        "lista_produtos[1] = \"rímel\"\n",
        "lista_produtos[4] = \"cremes hidratantes\"\n",
        "lista_produtos.pop()\n",
        "\n",
        "novos_produtos = ['tintura para cabelo','desodorante']\n",
        "\n",
        "for i in range(len(novos_produtos)):\n",
        "  lista_produtos.append(novos_produtos[i])\n",
        "\n",
        "print(lista_produtos)"
      ]
    }
  ]
}