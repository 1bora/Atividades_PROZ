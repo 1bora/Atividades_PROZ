{
  "nbformat": 4,
  "nbformat_minor": 0,
  "metadata": {
    "colab": {
      "provenance": [],
      "authorship_tag": "ABX9TyOdK1Sw0Jip8doMoeagxlU6",
      "include_colab_link": true
    },
    "kernelspec": {
      "name": "python3",
      "display_name": "Python 3"
    },
    "language_info": {
      "name": "python"
    }
  },
  "cells": [
    {
      "cell_type": "markdown",
      "metadata": {
        "id": "view-in-github",
        "colab_type": "text"
      },
      "source": [
        "<a href=\"https://colab.research.google.com/github/1bora/Atividades_PROZ/blob/main/PROZ_Atividade_Array3.ipynb\" target=\"_parent\"><img src=\"https://colab.research.google.com/assets/colab-badge.svg\" alt=\"Open In Colab\"/></a>"
      ]
    },
    {
      "cell_type": "code",
      "execution_count": 1,
      "metadata": {
        "id": "BDzGB6gxZ0oQ",
        "outputId": "f02f6a43-4045-4d2f-8729-2f3fdd648a2d",
        "colab": {
          "base_uri": "https://localhost:8080/"
        }
      },
      "outputs": [
        {
          "output_type": "stream",
          "name": "stdout",
          "text": [
            "Temos máscaras faciais disponíveis para venda!\n",
            "Temos batons disponíveis para venda!\n",
            "Temos esmaltes disponíveis para venda!\n",
            "Temos perfumes disponíveis para venda!\n",
            "Temos loções disponíveis para venda!\n",
            "Temos xampus disponíveis para venda!\n",
            "Temos sabonetes disponíveis para venda!\n",
            "Temos delineadores disponíveis para venda!\n"
          ]
        }
      ],
      "source": [
        "lista_produtos = ['máscaras faciais', 'batons', 'esmaltes', 'perfumes', 'loções', 'xampus', 'sabonetes', 'delineadores']\n",
        "\n",
        "for i in range(len(lista_produtos)):\n",
        "  print(\"Temos \"+ lista_produtos[i]+\" disponíveis para venda!\")"
      ]
    }
  ]
}